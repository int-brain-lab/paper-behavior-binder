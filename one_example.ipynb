{
 "cells": [
  {
   "cell_type": "code",
   "execution_count": 5,
   "metadata": {},
   "outputs": [
    {
     "name": "stdout",
     "output_type": "stream",
     "text": [
      "/home/cyrille/git/paper-behavior-binder/ibl-behavioral-data-Dec2019\n"
     ]
    }
   ],
   "source": [
    "%cd ibl-behavioral-data-Dec2019"
   ]
  },
  {
   "cell_type": "code",
   "execution_count": 6,
   "metadata": {},
   "outputs": [],
   "source": [
    "from oneibl.onelight import ONE"
   ]
  },
  {
   "cell_type": "code",
   "execution_count": 7,
   "metadata": {},
   "outputs": [],
   "source": [
    "one = ONE()"
   ]
  },
  {
   "cell_type": "code",
   "execution_count": 8,
   "metadata": {},
   "outputs": [],
   "source": [
    "# Search all sessions that have these dataset types.\n",
    "eids = one.search(['_ibl_trials.*'])"
   ]
  },
  {
   "cell_type": "code",
   "execution_count": 9,
   "metadata": {},
   "outputs": [
    {
     "name": "stdout",
     "output_type": "stream",
     "text": [
      "Loading session angelakilab/Subjects/IBL-T1/2019-02-09/001.\n"
     ]
    }
   ],
   "source": [
    "# Select the first session.\n",
    "eid = eids[0]\n",
    "print(f\"Loading session {eid}.\")"
   ]
  },
  {
   "cell_type": "code",
   "execution_count": 10,
   "metadata": {},
   "outputs": [
    {
     "name": "stdout",
     "output_type": "stream",
     "text": [
      "Available dataset types: _ibl_trials.choice, _ibl_trials.contrastLeft, _ibl_trials.contrastRight, _ibl_trials.feedbackType, _ibl_trials.feedback_times, _ibl_trials.included, _ibl_trials.intervals, _ibl_trials.itiDuration, _ibl_trials.probabilityLeft, _ibl_trials.repNum, _ibl_trials.response_times, _ibl_trials.rewardVolume, _ibl_trials.stimOn_times\n"
     ]
    }
   ],
   "source": [
    "# List all dataset types available in that session.\n",
    "dset_types = one.list(eid)\n",
    "print(f\"Available dataset types: {', '.join(dset_types)}\")"
   ]
  },
  {
   "cell_type": "code",
   "execution_count": 11,
   "metadata": {},
   "outputs": [
    {
     "name": "stdout",
     "output_type": "stream",
     "text": [
      "Loading _ibl_trials.choice\n",
      "(272,)\n"
     ]
    }
   ],
   "source": [
    "# Loading a single dataset.\n",
    "print(f\"Loading {dset_types[0]}\")\n",
    "choice = one.load_dataset(eid, dset_types[0])\n",
    "print(choice.shape)"
   ]
  },
  {
   "cell_type": "code",
   "execution_count": 12,
   "metadata": {},
   "outputs": [
    {
     "name": "stdout",
     "output_type": "stream",
     "text": [
      "Loading the _ibl_trials object.\n",
      "choice (272,)\n",
      "contrastLeft (272,)\n",
      "contrastRight (272,)\n",
      "feedbackType (272,)\n",
      "feedback_times (272,)\n",
      "included (272,)\n",
      "intervals (272, 2)\n",
      "itiDuration (272,)\n",
      "probabilityLeft (272,)\n",
      "repNum (272,)\n",
      "response_times (272,)\n",
      "rewardVolume (272,)\n",
      "stimOn_times (272,)\n"
     ]
    }
   ],
   "source": [
    "# Loading an object.\n",
    "print(\"Loading the _ibl_trials object.\")\n",
    "obj = one.load_object(eid, \"_ibl_trials\")\n",
    "for key, value in obj.items():\n",
    "    print(key, value.shape)"
   ]
  },
  {
   "cell_type": "code",
   "execution_count": null,
   "metadata": {},
   "outputs": [],
   "source": []
  }
 ],
 "metadata": {
  "kernelspec": {
   "display_name": "Python 3",
   "language": "python",
   "name": "python3"
  },
  "language_info": {
   "codemirror_mode": {
    "name": "ipython",
    "version": 3
   },
   "file_extension": ".py",
   "mimetype": "text/x-python",
   "name": "python",
   "nbconvert_exporter": "python",
   "pygments_lexer": "ipython3",
   "version": "3.7.5"
  }
 },
 "nbformat": 4,
 "nbformat_minor": 4
}
