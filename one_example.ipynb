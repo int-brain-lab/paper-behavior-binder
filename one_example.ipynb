{
 "cells": [
  {
   "cell_type": "markdown",
   "metadata": {},
   "source": [
    "# A standardized and reproducible method to measure decision-making in mice: Data\n",
    "\n",
    "This Jupyter notebooks shows how to access the data via the [Open Neurophysiology Environment (ONE) interface in Python](https://ibllib.readthedocs.io/en/latest/02_tutorial_python.html). The particular ONE implementation used in this notebook (\"ONE light\") only requires a local copy of the data, organized in a hierarchy of appropriately named subfolders and file names."
   ]
  },
  {
   "cell_type": "markdown",
   "metadata": {},
   "source": [
    "We start by importing the ONE light implementation."
   ]
  },
  {
   "cell_type": "code",
   "execution_count": 1,
   "metadata": {},
   "outputs": [],
   "source": [
    "import numpy as np\n",
    "import matplotlib.pyplot as plt\n",
    "import seaborn\n",
    "\n",
    "from oneibl.onelight import ONE"
   ]
  },
  {
   "cell_type": "markdown",
   "metadata": {},
   "source": [
    "By default, this ONE implementation looks for data in the current directory."
   ]
  },
  {
   "cell_type": "code",
   "execution_count": 2,
   "metadata": {},
   "outputs": [
    {
     "name": "stdout",
     "output_type": "stream",
     "text": [
      "/home/cyrille/git/paper-behavior-binder/ibl-behavioral-data-Dec2019\n"
     ]
    }
   ],
   "source": [
    "%cd ibl-behavioral-data-Dec2019"
   ]
  },
  {
   "cell_type": "markdown",
   "metadata": {},
   "source": [
    "We create the main ONE() instance that we will use to access the data."
   ]
  },
  {
   "cell_type": "code",
   "execution_count": 3,
   "metadata": {},
   "outputs": [],
   "source": [
    "one = ONE()"
   ]
  },
  {
   "cell_type": "markdown",
   "metadata": {},
   "source": [
    "We search all sessions that have a given dataset type pattern."
   ]
  },
  {
   "cell_type": "code",
   "execution_count": 4,
   "metadata": {},
   "outputs": [],
   "source": [
    "eids = one.search(['_ibl_trials.*'])"
   ]
  },
  {
   "cell_type": "markdown",
   "metadata": {},
   "source": [
    "We select the first session."
   ]
  },
  {
   "cell_type": "code",
   "execution_count": 5,
   "metadata": {},
   "outputs": [
    {
     "name": "stdout",
     "output_type": "stream",
     "text": [
      "Loading session angelakilab/Subjects/IBL-T1/2019-02-20/001.\n"
     ]
    }
   ],
   "source": [
    "eid = eids[10]\n",
    "print(f\"Loading session {eid}.\")"
   ]
  },
  {
   "cell_type": "markdown",
   "metadata": {},
   "source": [
    "We list all dataset types available in that session."
   ]
  },
  {
   "cell_type": "code",
   "execution_count": 6,
   "metadata": {},
   "outputs": [
    {
     "name": "stdout",
     "output_type": "stream",
     "text": [
      "Available dataset types: _ibl_trials.choice, _ibl_trials.contrastLeft, _ibl_trials.contrastRight, _ibl_trials.feedbackType, _ibl_trials.feedback_times, _ibl_trials.goCueTrigger_times, _ibl_trials.goCue_times, _ibl_trials.included, _ibl_trials.intervals, _ibl_trials.itiDuration, _ibl_trials.probabilityLeft, _ibl_trials.repNum, _ibl_trials.response_times, _ibl_trials.rewardVolume, _ibl_trials.stimOn_times\n"
     ]
    }
   ],
   "source": [
    "dset_types = one.list(eid)\n",
    "print(f\"Available dataset types: {', '.join(dset_types)}\")"
   ]
  },
  {
   "cell_type": "markdown",
   "metadata": {},
   "source": [
    "We load a single dataset."
   ]
  },
  {
   "cell_type": "code",
   "execution_count": 7,
   "metadata": {},
   "outputs": [
    {
     "name": "stdout",
     "output_type": "stream",
     "text": [
      "Loading _ibl_trials.choice\n",
      "(1330,)\n"
     ]
    }
   ],
   "source": [
    "print(f\"Loading {dset_types[0]}\")\n",
    "choice = one.load_dataset(eid, dset_types[0])\n",
    "print(choice.shape)"
   ]
  },
  {
   "cell_type": "markdown",
   "metadata": {},
   "source": [
    "We load an entire object (a kind of Python dictionary)."
   ]
  },
  {
   "cell_type": "code",
   "execution_count": 8,
   "metadata": {},
   "outputs": [
    {
     "name": "stdout",
     "output_type": "stream",
     "text": [
      "Loading the _ibl_trials object.\n",
      "choice (1330,)\n",
      "contrastLeft (1330,)\n",
      "contrastRight (1330,)\n",
      "feedbackType (1330,)\n",
      "feedback_times (1330,)\n",
      "goCueTrigger_times (1330,)\n",
      "goCue_times (1330,)\n",
      "included (1330,)\n",
      "intervals (1330, 2)\n",
      "itiDuration (1330,)\n",
      "probabilityLeft (1330,)\n",
      "repNum (1330,)\n",
      "response_times (1330,)\n",
      "rewardVolume (1330,)\n",
      "stimOn_times (1330,)\n"
     ]
    }
   ],
   "source": [
    "print(\"Loading the _ibl_trials object.\")\n",
    "trials = one.load_object(eid, \"_ibl_trials\")\n",
    "for key, value in trials.items():\n",
    "    print(key, value.shape)"
   ]
  },
  {
   "cell_type": "markdown",
   "metadata": {},
   "source": [
    "We make a very basic plot."
   ]
  },
  {
   "cell_type": "code",
   "execution_count": 9,
   "metadata": {},
   "outputs": [
    {
     "data": {
      "image/png": "[encoded data removed]",
      "text/plain": [
       "<Figure size 720x432 with 1 Axes>"
      ]
     },
     "metadata": {
      "needs_background": "light"
     },
     "output_type": "display_data"
    }
   ],
   "source": [
    "out = []\n",
    "for sgn, contrast in ((-1, trials.contrastRight), (+1, trials.contrastLeft)):\n",
    "    for c in np.unique(contrast)[::sgn]:\n",
    "        if not np.isnan(c) and (c != 0 or sgn == +1):\n",
    "            out.append((sgn * c, (trials.choice[contrast == c] == +1).mean()))\n",
    "out = np.array(out) * 100\n",
    "\n",
    "plt.figure(figsize=(10, 6))\n",
    "plt.plot(out[:, 0], out[:, 1], 'o-', lw=4, ms=10)\n",
    "plt.xlabel(\"Signed contrast (%)\")\n",
    "plt.ylabel(\"Rightward choice (%)\")\n",
    "plt.ylim(0, 100)\n",
    "plt.title(\"Psychometric curve for %s\" % eid);"
   ]
  },
  {
   "cell_type": "code",
   "execution_count": null,
   "metadata": {},
   "outputs": [],
   "source": []
  }
 ],
 "metadata": {
  "kernelspec": {
   "display_name": "Python 3",
   "language": "python",
   "name": "python3"
  },
  "language_info": {
   "codemirror_mode": {
    "name": "ipython",
    "version": 3
   },
   "file_extension": ".py",
   "mimetype": "text/x-python",
   "name": "python",
   "nbconvert_exporter": "python",
   "pygments_lexer": "ipython3",
   "version": "3.7.6"
  }
 },
 "nbformat": 4,
 "nbformat_minor": 4
}
